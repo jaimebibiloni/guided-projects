{
 "cells": [
  {
   "cell_type": "markdown",
   "id": "63678f40-ce20-4d59-b5d0-c7f5df5ab9b0",
   "metadata": {},
   "source": [
    "# **Guided Project: Mobile app for lottery addiction**\n",
    "\n",
    "*Made by Jaime Bibiloni in November 2022*"
   ]
  },
  {
   "cell_type": "markdown",
   "id": "198afbe4-bd08-4356-a882-acc662da3422",
   "metadata": {},
   "source": [
    "# **Tackling lottery addiction with hard cold numbers**"
   ]
  },
  {
   "cell_type": "markdown",
   "id": "6c695860-3cbb-4358-94fd-418f14f3f5de",
   "metadata": {},
   "source": [
    "---"
   ]
  },
  {
   "cell_type": "markdown",
   "id": "0b92d9f8-1fdd-44d8-94f8-ab419a6bf1c8",
   "metadata": {},
   "source": [
    "## **Introduction**"
   ]
  },
  {
   "cell_type": "markdown",
   "id": "d3e5af91-2ec5-4741-afa9-75007a12feb1",
   "metadata": {},
   "source": [
    "A medical institute has requested that we create the core logic for a new app aimed at improving user's understanding of the real probabilities involved in the [6/49 lottery](https://en.wikipedia.org/wiki/Lotto_6/49), a kind of lottery popular in Canada which allows users to pick their playing numbers. By improving customer's understanding of the underlying probabilities, the institute hopes to decrease lottery addiction. Our task involves answering questions such as:\n",
    "\n",
    "- What is the probability of winning the big prize with a single ticket?\n",
    "\n",
    "- What is the probability of winning the big prize if we play 40 different tickets (or any other number)?\n",
    "\n",
    "- What is the probability of having at least five (or four, or three, or two) winning numbers on a single ticket?\n",
    "\n",
    "We will be analyzing a [data set](https://www.kaggle.com/datasets/datascienceai/lottery-dataset?resource=download) hosted in Kaggle which stores data on more than 3500 drawings between 1982 and 2018.\n",
    "\n",
    "In the **6/49 lottery, six different numbers are drawn without replacement from a set of 49 numbers** that ranges from 1 to 49."
   ]
  },
  {
   "cell_type": "code",
   "execution_count": 1,
   "id": "8492b673-f590-45f6-866c-9b9ab171ad3d",
   "metadata": {},
   "outputs": [],
   "source": [
    "import pandas as pd\n",
    "\n",
    "# Automatically format all code in the notebook\n",
    "%load_ext lab_black\n",
    "\n",
    "# Show every output in the notebook\n",
    "from IPython.core.interactiveshell import InteractiveShell\n",
    "\n",
    "InteractiveShell.ast_node_interactivity = \"all\""
   ]
  },
  {
   "cell_type": "markdown",
   "id": "8df1c72f-c2c3-4b05-b5b9-37005513e7d8",
   "metadata": {},
   "source": [
    "## **Core functions**"
   ]
  },
  {
   "cell_type": "markdown",
   "id": "34117c79-8c50-4170-8a5e-8671a925a985",
   "metadata": {},
   "source": [
    "Let's start by creating two useful functions we will reuse during the project:\n",
    "- `factorial()`: A function to calculate factorials.\n",
    "- `combinations()`: A function to calculate combinations:"
   ]
  },
  {
   "cell_type": "code",
   "execution_count": 2,
   "id": "13e73e58-697e-4b85-8680-2099b2e5e079",
   "metadata": {},
   "outputs": [],
   "source": [
    "def factorial(n):\n",
    "    if n == 0:\n",
    "        return 1\n",
    "    else:\n",
    "        fact = n\n",
    "        for e in range(1, n):\n",
    "            fact = fact * (n - 1 * e)\n",
    "        return fact"
   ]
  },
  {
   "cell_type": "code",
   "execution_count": 3,
   "id": "34fbbf2e-330b-4549-bcf8-dc3a417321a0",
   "metadata": {},
   "outputs": [],
   "source": [
    "def combinations(n, k):\n",
    "    comb = factorial(n) / (factorial(k) * factorial(n - k))\n",
    "    return int(comb)"
   ]
  },
  {
   "cell_type": "markdown",
   "id": "e0950637-4849-4565-a587-b9f024844d0b",
   "metadata": {},
   "source": [
    "## **One-ticket probability of winning**"
   ]
  },
  {
   "cell_type": "code",
   "execution_count": 4,
   "id": "a4801f72-53d6-4122-b4be-d199abde54c1",
   "metadata": {},
   "outputs": [],
   "source": [
    "# The ticket input will be a list\n",
    "def one_ticket_probability(ticket):\n",
    "    possible_outcomes = combinations(49, 6)\n",
    "    return (\n",
    "        \"The probability of winning the 6/49 lottery with the ticket \"\n",
    "        \"{0} is 1 out of {1} million ({2} %)\".format(\n",
    "            ticket,\n",
    "            round((possible_outcomes / 1000000), 2),\n",
    "            \"{:f}\".format((1 / possible_outcomes) * 100),\n",
    "        )\n",
    "    )"
   ]
  },
  {
   "cell_type": "code",
   "execution_count": 5,
   "id": "d4261344-fa83-4da6-abb1-f2e31cac676f",
   "metadata": {},
   "outputs": [
    {
     "data": {
      "text/plain": [
       "'The probability of winning the 6/49 lottery with the ticket [1, 2, 3, 4, 5, 6] is 1 out of 13.98 million (0.000007 %)'"
      ]
     },
     "execution_count": 5,
     "metadata": {},
     "output_type": "execute_result"
    },
    {
     "data": {
      "text/plain": [
       "'The probability of winning the 6/49 lottery with the ticket [11, 22, 33, 44, 55, 66] is 1 out of 13.98 million (0.000007 %)'"
      ]
     },
     "execution_count": 5,
     "metadata": {},
     "output_type": "execute_result"
    },
    {
     "data": {
      "text/plain": [
       "'The probability of winning the 6/49 lottery with the ticket [8, 42, 25, 39, 36, 31] is 1 out of 13.98 million (0.000007 %)'"
      ]
     },
     "execution_count": 5,
     "metadata": {},
     "output_type": "execute_result"
    }
   ],
   "source": [
    "# Testing the function with different tickets\n",
    "one_ticket_probability([1, 2, 3, 4, 5, 6])\n",
    "\n",
    "one_ticket_probability([11, 22, 33, 44, 55, 66])\n",
    "\n",
    "one_ticket_probability([8, 42, 25, 39, 36, 31])"
   ]
  },
  {
   "cell_type": "markdown",
   "id": "96a26fe8-6b11-430e-b265-ac9269f205ca",
   "metadata": {},
   "source": [
    "As shown above, **the probability of winning the 6/49 lottery with any ticket is** extremely low: roughly **1 out of 14 million**."
   ]
  },
  {
   "cell_type": "markdown",
   "id": "0d8690fb-e1ba-4b95-b869-f1479fc478e6",
   "metadata": {},
   "source": [
    "## **Historical data check**"
   ]
  },
  {
   "cell_type": "code",
   "execution_count": 6,
   "id": "1bc39449-1c4a-4412-803c-37871e073da9",
   "metadata": {},
   "outputs": [
    {
     "data": {
      "text/plain": [
       "(3665, 11)"
      ]
     },
     "execution_count": 6,
     "metadata": {},
     "output_type": "execute_result"
    },
    {
     "data": {
      "text/html": [
       "<div>\n",
       "<style scoped>\n",
       "    .dataframe tbody tr th:only-of-type {\n",
       "        vertical-align: middle;\n",
       "    }\n",
       "\n",
       "    .dataframe tbody tr th {\n",
       "        vertical-align: top;\n",
       "    }\n",
       "\n",
       "    .dataframe thead th {\n",
       "        text-align: right;\n",
       "    }\n",
       "</style>\n",
       "<table border=\"1\" class=\"dataframe\">\n",
       "  <thead>\n",
       "    <tr style=\"text-align: right;\">\n",
       "      <th></th>\n",
       "      <th>PRODUCT</th>\n",
       "      <th>DRAW NUMBER</th>\n",
       "      <th>SEQUENCE NUMBER</th>\n",
       "      <th>DRAW DATE</th>\n",
       "      <th>NUMBER DRAWN 1</th>\n",
       "      <th>NUMBER DRAWN 2</th>\n",
       "      <th>NUMBER DRAWN 3</th>\n",
       "      <th>NUMBER DRAWN 4</th>\n",
       "      <th>NUMBER DRAWN 5</th>\n",
       "      <th>NUMBER DRAWN 6</th>\n",
       "      <th>BONUS NUMBER</th>\n",
       "    </tr>\n",
       "  </thead>\n",
       "  <tbody>\n",
       "    <tr>\n",
       "      <th>0</th>\n",
       "      <td>649</td>\n",
       "      <td>1</td>\n",
       "      <td>0</td>\n",
       "      <td>06/12/1982</td>\n",
       "      <td>3</td>\n",
       "      <td>11</td>\n",
       "      <td>12</td>\n",
       "      <td>14</td>\n",
       "      <td>41</td>\n",
       "      <td>43</td>\n",
       "      <td>13</td>\n",
       "    </tr>\n",
       "    <tr>\n",
       "      <th>1</th>\n",
       "      <td>649</td>\n",
       "      <td>2</td>\n",
       "      <td>0</td>\n",
       "      <td>6/19/1982</td>\n",
       "      <td>8</td>\n",
       "      <td>33</td>\n",
       "      <td>36</td>\n",
       "      <td>37</td>\n",
       "      <td>39</td>\n",
       "      <td>41</td>\n",
       "      <td>9</td>\n",
       "    </tr>\n",
       "    <tr>\n",
       "      <th>2</th>\n",
       "      <td>649</td>\n",
       "      <td>3</td>\n",
       "      <td>0</td>\n",
       "      <td>6/26/1982</td>\n",
       "      <td>1</td>\n",
       "      <td>6</td>\n",
       "      <td>23</td>\n",
       "      <td>24</td>\n",
       "      <td>27</td>\n",
       "      <td>39</td>\n",
       "      <td>34</td>\n",
       "    </tr>\n",
       "  </tbody>\n",
       "</table>\n",
       "</div>"
      ],
      "text/plain": [
       "   PRODUCT  DRAW NUMBER  SEQUENCE NUMBER   DRAW DATE  NUMBER DRAWN 1  \\\n",
       "0      649            1                0  06/12/1982               3   \n",
       "1      649            2                0   6/19/1982               8   \n",
       "2      649            3                0   6/26/1982               1   \n",
       "\n",
       "   NUMBER DRAWN 2  NUMBER DRAWN 3  NUMBER DRAWN 4  NUMBER DRAWN 5  \\\n",
       "0              11              12              14              41   \n",
       "1              33              36              37              39   \n",
       "2               6              23              24              27   \n",
       "\n",
       "   NUMBER DRAWN 6  BONUS NUMBER  \n",
       "0              43            13  \n",
       "1              41             9  \n",
       "2              39            34  "
      ]
     },
     "execution_count": 6,
     "metadata": {},
     "output_type": "execute_result"
    },
    {
     "data": {
      "text/html": [
       "<div>\n",
       "<style scoped>\n",
       "    .dataframe tbody tr th:only-of-type {\n",
       "        vertical-align: middle;\n",
       "    }\n",
       "\n",
       "    .dataframe tbody tr th {\n",
       "        vertical-align: top;\n",
       "    }\n",
       "\n",
       "    .dataframe thead th {\n",
       "        text-align: right;\n",
       "    }\n",
       "</style>\n",
       "<table border=\"1\" class=\"dataframe\">\n",
       "  <thead>\n",
       "    <tr style=\"text-align: right;\">\n",
       "      <th></th>\n",
       "      <th>PRODUCT</th>\n",
       "      <th>DRAW NUMBER</th>\n",
       "      <th>SEQUENCE NUMBER</th>\n",
       "      <th>DRAW DATE</th>\n",
       "      <th>NUMBER DRAWN 1</th>\n",
       "      <th>NUMBER DRAWN 2</th>\n",
       "      <th>NUMBER DRAWN 3</th>\n",
       "      <th>NUMBER DRAWN 4</th>\n",
       "      <th>NUMBER DRAWN 5</th>\n",
       "      <th>NUMBER DRAWN 6</th>\n",
       "      <th>BONUS NUMBER</th>\n",
       "    </tr>\n",
       "  </thead>\n",
       "  <tbody>\n",
       "    <tr>\n",
       "      <th>3662</th>\n",
       "      <td>649</td>\n",
       "      <td>3589</td>\n",
       "      <td>0</td>\n",
       "      <td>6/13/2018</td>\n",
       "      <td>6</td>\n",
       "      <td>22</td>\n",
       "      <td>24</td>\n",
       "      <td>31</td>\n",
       "      <td>32</td>\n",
       "      <td>34</td>\n",
       "      <td>16</td>\n",
       "    </tr>\n",
       "    <tr>\n",
       "      <th>3663</th>\n",
       "      <td>649</td>\n",
       "      <td>3590</td>\n",
       "      <td>0</td>\n",
       "      <td>6/16/2018</td>\n",
       "      <td>2</td>\n",
       "      <td>15</td>\n",
       "      <td>21</td>\n",
       "      <td>31</td>\n",
       "      <td>38</td>\n",
       "      <td>49</td>\n",
       "      <td>8</td>\n",
       "    </tr>\n",
       "    <tr>\n",
       "      <th>3664</th>\n",
       "      <td>649</td>\n",
       "      <td>3591</td>\n",
       "      <td>0</td>\n",
       "      <td>6/20/2018</td>\n",
       "      <td>14</td>\n",
       "      <td>24</td>\n",
       "      <td>31</td>\n",
       "      <td>35</td>\n",
       "      <td>37</td>\n",
       "      <td>48</td>\n",
       "      <td>17</td>\n",
       "    </tr>\n",
       "  </tbody>\n",
       "</table>\n",
       "</div>"
      ],
      "text/plain": [
       "      PRODUCT  DRAW NUMBER  SEQUENCE NUMBER  DRAW DATE  NUMBER DRAWN 1  \\\n",
       "3662      649         3589                0  6/13/2018               6   \n",
       "3663      649         3590                0  6/16/2018               2   \n",
       "3664      649         3591                0  6/20/2018              14   \n",
       "\n",
       "      NUMBER DRAWN 2  NUMBER DRAWN 3  NUMBER DRAWN 4  NUMBER DRAWN 5  \\\n",
       "3662              22              24              31              32   \n",
       "3663              15              21              31              38   \n",
       "3664              24              31              35              37   \n",
       "\n",
       "      NUMBER DRAWN 6  BONUS NUMBER  \n",
       "3662              34            16  \n",
       "3663              49             8  \n",
       "3664              48            17  "
      ]
     },
     "execution_count": 6,
     "metadata": {},
     "output_type": "execute_result"
    }
   ],
   "source": [
    "lottery_649 = pd.read_csv(\"649.csv\")\n",
    "\n",
    "lottery_649.shape\n",
    "\n",
    "lottery_649.head(3)\n",
    "\n",
    "lottery_649.tail(3)"
   ]
  },
  {
   "cell_type": "markdown",
   "id": "5154017b-c129-42c6-bb7d-ea426b6f5537",
   "metadata": {},
   "source": [
    "The data set contains 11 columns showing the date and each drawn number for each of the 3665 draws (rows) included. All these draws took place in the Canadian 6/49 lottery between 1982 and 2018."
   ]
  },
  {
   "cell_type": "markdown",
   "id": "917938ba-413c-49d4-9fad-80c788f242be",
   "metadata": {},
   "source": [
    "Let's create a function so users can compare their tickets against the historical lottery data and determine whether they would have ever won."
   ]
  },
  {
   "cell_type": "code",
   "execution_count": 14,
   "id": "65027d79-0a70-45b3-8265-700125306eef",
   "metadata": {},
   "outputs": [
    {
     "data": {
      "text/plain": [
       "{3, 11, 12, 13, 14, 41, 43}"
      ]
     },
     "execution_count": 14,
     "metadata": {},
     "output_type": "execute_result"
    }
   ],
   "source": [
    "# Function to extract a set of winning numbers from a row of the data set\n",
    "def extract_numbers(lottery_row):\n",
    "    numbers_set = set(lottery_row[4:11])\n",
    "    return numbers_set\n",
    "\n",
    "\n",
    "# Try function with first row\n",
    "extract_numbers(lottery_649.iloc[0])\n",
    "\n",
    "# Extract all sets of hitoric winning numbers recorded in the data set\n",
    "all_sets = lottery_649.apply(extract_numbers, 1)"
   ]
  },
  {
   "cell_type": "code",
   "execution_count": 16,
   "id": "d2093fc2-faa2-4e99-bb99-052cf4489ebc",
   "metadata": {},
   "outputs": [
    {
     "name": "stdout",
     "output_type": "stream",
     "text": [
      "1\n",
      "According to results from  past draws, the probability of winning the 6/49 lottery with the ticket [14, 24, 31, 35, 37, 48, 17] is 0.027%\n",
      "1\n",
      "According to results from  past draws, the probability of winning the 6/49 lottery with the ticket [24, 14, 31, 35, 37, 48, 17] is 0.027%\n",
      "0\n",
      "According to results from  past draws, the probability of winning the 6/49 lottery with the ticket [1, 2, 3, 4, 5, 6, 7] is 0.000%\n"
     ]
    }
   ],
   "source": [
    "# Function to compare a single ticket against the full list of historical winners\n",
    "def check_historical_occurrence(ticket, historical_winners):\n",
    "    ticket_set = set(ticket)\n",
    "    past_winner_times = 0\n",
    "\n",
    "    for e in historical_winners:\n",
    "        if e == ticket_set:\n",
    "            past_winner_times += 1\n",
    "\n",
    "    winner_probability = past_winner_times / len(historical_winners)\n",
    "\n",
    "    print(past_winner_times)\n",
    "\n",
    "    print(\n",
    "        \"According to results from  past draws, the probability of winning \"\n",
    "        \"the 6/49 lottery with the ticket \"\n",
    "        \"{0} is {1}%\".format(ticket, \"{:.3f}\".format(winner_probability * 100))\n",
    "    )\n",
    "\n",
    "\n",
    "# Checking function\n",
    "check_historical_occurrence([14, 24, 31, 35, 37, 48, 17], all_sets)\n",
    "\n",
    "# Checking if function works when changing number order of a past winning ticket\n",
    "check_historical_occurrence([24, 14, 31, 35, 37, 48, 17], all_sets)\n",
    "\n",
    "# Checking function\n",
    "check_historical_occurrence([1, 2, 3, 4, 5, 6, 7], all_sets)"
   ]
  },
  {
   "cell_type": "markdown",
   "id": "30d5fa33-dd64-4833-8fa0-5e46c2c11c81",
   "metadata": {},
   "source": [
    "As shown in the examples below, **this new function shows how incredibly unlikely it is to win the lottery**, even for tickets fortunate enough to have won once in 35+ years."
   ]
  },
  {
   "cell_type": "markdown",
   "id": "9be0837b-4e5b-4bcb-affa-8936c105b99d",
   "metadata": {},
   "source": [
    "## **Multi-ticket probability**"
   ]
  },
  {
   "cell_type": "markdown",
   "id": "28c66945-2f07-43b7-a758-5a021476ca7d",
   "metadata": {},
   "source": [
    "To help players who are addicted to playing the lottery and buy many different tickets to increase their chances of winning, we are going to build a function that shows the odds of winning depending on the amount of tickets in play:"
   ]
  },
  {
   "cell_type": "code",
   "execution_count": 9,
   "id": "5c626409-1176-4a9e-a219-ae3ede3960b0",
   "metadata": {},
   "outputs": [
    {
     "name": "stdout",
     "output_type": "stream",
     "text": [
      "The probability of winning the 6/49 lottery when playing 1 ticket is 0.00001 %\n",
      "The probability of winning the 6/49 lottery when playing 10 tickets is 0.00007 %\n",
      "The probability of winning the 6/49 lottery when playing 40 tickets is 0.00029 %\n",
      "The probability of winning the 6/49 lottery when playing 100 tickets is 0.00072 %\n",
      "The probability of winning the 6/49 lottery when playing 10000 tickets is 0.07151 %\n",
      "The probability of winning the 6/49 lottery when playing 100000 tickets is 0.71511 %\n",
      "The probability of winning the 6/49 lottery when playing 1000000 tickets is 7.15112 %\n",
      "The probability of winning the 6/49 lottery when playing 6991908 tickets is 50.00000 %\n",
      "The probability of winning the 6/49 lottery when playing 13983816 tickets is 100.00000 %\n"
     ]
    }
   ],
   "source": [
    "def multi_ticket_probability(number_of_tickets):\n",
    "    total_possible_tickets = combinations(49, 6)\n",
    "    multi_probability = number_of_tickets / total_possible_tickets\n",
    "\n",
    "    if number_of_tickets == 1:\n",
    "\n",
    "        print(\n",
    "            \"The probability of winning the 6/49 lottery when playing \"\n",
    "            f\"{number_of_tickets}\" + \" ticket\"\n",
    "            f\" is {multi_probability * 100:.5f} %\"\n",
    "        )\n",
    "    else:\n",
    "        print(\n",
    "            \"The probability of winning the 6/49 lottery when playing \"\n",
    "            f\"{number_of_tickets}\" + \" tickets\"\n",
    "            f\" is {multi_probability * 100:.5f} %\"\n",
    "        )\n",
    "\n",
    "\n",
    "# Testing function on different scenarios\n",
    "multi_ticket_probability(1)\n",
    "multi_ticket_probability(10)\n",
    "multi_ticket_probability(40)\n",
    "multi_ticket_probability(100)\n",
    "multi_ticket_probability(10000)\n",
    "multi_ticket_probability(100000)\n",
    "multi_ticket_probability(1000000)\n",
    "multi_ticket_probability(6991908)\n",
    "multi_ticket_probability(13983816)"
   ]
  },
  {
   "cell_type": "markdown",
   "id": "503d05c5-a799-4c01-82fd-0cb5adcfa80a",
   "metadata": {},
   "source": [
    "The multi ticket probability function shows, again, how incredibly unlikely winning at the 6/49 lottery is. For example, just **to get a 1% winning chance, you would need to buy more than 100,000 tickets**."
   ]
  },
  {
   "cell_type": "markdown",
   "id": "ab848321-7c56-4976-8335-ec9645eceb22",
   "metadata": {},
   "source": [
    "## **Lesser prizes**"
   ]
  },
  {
   "cell_type": "markdown",
   "id": "70f48ea6-489e-4fe7-8437-bcc6c2296d3e",
   "metadata": {},
   "source": [
    "Most 6/49 lotteries award smaller prizes to tickets which get only 2, 3, 4 or 5 numbers right. Some users might be interested in the odds related to those prizes so we are going to write a function to calculate them:"
   ]
  },
  {
   "cell_type": "code",
   "execution_count": 30,
   "id": "a576f26f-d7a4-46d4-9ea7-bf68c74d4ec2",
   "metadata": {},
   "outputs": [
    {
     "name": "stdout",
     "output_type": "stream",
     "text": [
      "The probability of getting right exactly 5 numbers when playing the 6/49 lottery is 0.00184 %\n",
      "The probability of getting right exactly 4 numbers when playing the 6/49 lottery is 0.09686 %\n",
      "The probability of getting right exactly 3 numbers when playing the 6/49 lottery is 1.76504 %\n",
      "The probability of getting right exactly 2 numbers when playing the 6/49 lottery is 13.23780 %\n"
     ]
    }
   ],
   "source": [
    "# correct_numbers must be an integer between 2 and 5\n",
    "def probability_less_6(correct_numbers):\n",
    "    successful_outcomes = combinations(6, correct_numbers) * combinations(\n",
    "        43, 6 - correct_numbers\n",
    "    )\n",
    "\n",
    "    possible_outcomes = combinations(49, 6)\n",
    "\n",
    "    probability = successful_outcomes / possible_outcomes\n",
    "\n",
    "    print(\n",
    "        \"The probability of getting right exactly \"\n",
    "        f\"{correct_numbers}\"\n",
    "        \" numbers when playing the 6/49 lottery\"\n",
    "        f\" is {probability * 100:.5f} %\"\n",
    "    )\n",
    "\n",
    "\n",
    "# Testing function on different scenarios\n",
    "probability_less_6(5)\n",
    "probability_less_6(4)\n",
    "probability_less_6(3)\n",
    "probability_less_6(2)"
   ]
  }
 ],
 "metadata": {
  "kernelspec": {
   "display_name": "Python 3",
   "language": "python",
   "name": "python3"
  },
  "language_info": {
   "codemirror_mode": {
    "name": "ipython",
    "version": 3
   },
   "file_extension": ".py",
   "mimetype": "text/x-python",
   "name": "python",
   "nbconvert_exporter": "python",
   "pygments_lexer": "ipython3",
   "version": "3.8.8"
  }
 },
 "nbformat": 4,
 "nbformat_minor": 5
}
